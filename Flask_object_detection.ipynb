{
 "cells": [
  {
   "cell_type": "markdown",
   "metadata": {},
   "source": [
    "**Notebook Flask_object_detection**"
   ]
  },
  {
   "cell_type": "markdown",
   "metadata": {},
   "source": [
    "#### 1) Utilisation de ce code pour la detection d'objet en temps réel via la caméra du Raspberry pi "
   ]
  },
  {
   "cell_type": "markdown",
   "metadata": {},
   "source": [
    "*Code source utilisé: https://github.com/diegoinacio/object-detection-flask-opencv/blob/master/object_detection.py*"
   ]
  },
  {
   "cell_type": "code",
   "execution_count": 1,
   "metadata": {},
   "outputs": [
    {
     "ename": "ModuleNotFoundError",
     "evalue": "No module named 'cv2'",
     "output_type": "error",
     "traceback": [
      "\u001b[1;31m---------------------------------------------------------------------------\u001b[0m",
      "\u001b[1;31mModuleNotFoundError\u001b[0m                       Traceback (most recent call last)",
      "\u001b[1;32m<ipython-input-1-ea21ed2c180d>\u001b[0m in \u001b[0;36m<module>\u001b[1;34m\u001b[0m\n\u001b[0;32m      1\u001b[0m \u001b[1;32mimport\u001b[0m \u001b[0mtime\u001b[0m\u001b[1;33m\u001b[0m\u001b[1;33m\u001b[0m\u001b[0m\n\u001b[1;32m----> 2\u001b[1;33m \u001b[1;32mimport\u001b[0m \u001b[0mcv2\u001b[0m\u001b[1;33m\u001b[0m\u001b[1;33m\u001b[0m\u001b[0m\n\u001b[0m\u001b[0;32m      3\u001b[0m \u001b[1;32mimport\u001b[0m \u001b[0mnumpy\u001b[0m \u001b[1;32mas\u001b[0m \u001b[0mnp\u001b[0m\u001b[1;33m\u001b[0m\u001b[1;33m\u001b[0m\u001b[0m\n\u001b[0;32m      4\u001b[0m \u001b[1;33m\u001b[0m\u001b[0m\n\u001b[0;32m      5\u001b[0m \u001b[1;33m\u001b[0m\u001b[0m\n",
      "\u001b[1;31mModuleNotFoundError\u001b[0m: No module named 'cv2'"
     ]
    }
   ],
   "source": [
    "import time\n",
    "import cv2\n",
    "import numpy as np\n",
    "\n",
    "\n",
    "class ObjectDetection:\n",
    "    def __init__(self):\n",
    "        self.MODEL = cv2.dnn.readNet(\n",
    "            'models/yolov3.weights',\n",
    "            'models/yolov3.cfg'\n",
    "        )\n",
    "\n",
    "        self.CLASSES = []\n",
    "        with open(\"models/coco.names\", \"r\") as f:\n",
    "            self.CLASSES = [line.strip() for line in f.readlines()]\n",
    "\n",
    "        self.OUTPUT_LAYERS = [self.MODEL.getLayerNames()[i[0] - 1] for i in self.MODEL.getUnconnectedOutLayers()]\n",
    "        self.COLORS = np.random.uniform(0, 255, size=(len(self.CLASSES), 3))\n",
    "        self.COLORS /= (np.sum(self.COLORS**2, axis=1)**0.5/255)[np.newaxis].T\n",
    "\n",
    "    def detectObj(self, snap):\n",
    "        height, width, channels = snap.shape\n",
    "        blob = cv2.dnn.blobFromImage(snap, 1/255, (416, 416), swapRB=True, crop=False)\n",
    "\n",
    "        self.MODEL.setInput(blob)\n",
    "        outs = self.MODEL.forward(self.OUTPUT_LAYERS)\n",
    "\n",
    "        # Showing informations on the screen\n",
    "        class_ids = []\n",
    "        confidences = []\n",
    "        boxes = []\n",
    "        for out in outs:\n",
    "            for detection in out:\n",
    "                scores = detection[5:]\n",
    "                class_id = np.argmax(scores)\n",
    "                confidence = scores[class_id]\n",
    "                if confidence > 0.5:\n",
    "                    # Object detected\n",
    "                    center_x = int(detection[0]*width)\n",
    "                    center_y = int(detection[1]*height)\n",
    "                    w = int(detection[2]*width)\n",
    "                    h = int(detection[3]*height)\n",
    "\n",
    "                    # Rectangle coordinates\n",
    "                    x = int(center_x - w/2)\n",
    "                    y = int(center_y - h/2)\n",
    "\n",
    "                    boxes.append([x, y, w, h])\n",
    "                    confidences.append(float(confidence))\n",
    "                    class_ids.append(class_id)\n",
    "\n",
    "        indexes = cv2.dnn.NMSBoxes(boxes, confidences, 0.5, 0.4)\n",
    "        font = cv2.FONT_HERSHEY_PLAIN\n",
    "        for i in range(len(boxes)):\n",
    "            if i in indexes:\n",
    "                x, y, w, h = boxes[i]\n",
    "                label = str(self.CLASSES[class_ids[i]])\n",
    "                color = self.COLORS[i]\n",
    "                cv2.rectangle(snap, (x, y), (x + w, y + h), color, 2)\n",
    "                cv2.putText(snap, label, (x, y - 5), font, 2, color, 2)\n",
    "        return snap\n",
    "\n",
    "\n",
    "class VideoStreaming(object):\n",
    "    def __init__(self):\n",
    "        super(VideoStreaming, self).__init__()\n",
    "        self.VIDEO = cv2.VideoCapture(0)\n",
    "\n",
    "        self.MODEL = ObjectDetection()\n",
    "\n",
    "        self._preview = True\n",
    "        self._flipH = False\n",
    "        self._detect = False\n",
    "        self._exposure = self.VIDEO.get(cv2.CAP_PROP_EXPOSURE)\n",
    "        self._contrast = self.VIDEO.get(cv2.CAP_PROP_CONTRAST)\n",
    "\n",
    "    @property\n",
    "    def preview(self):\n",
    "        return self._preview\n",
    "\n",
    "    @preview.setter\n",
    "    def preview(self, value):\n",
    "        self._preview = bool(value)\n",
    "\n",
    "    @property\n",
    "    def flipH(self):\n",
    "        return self._flipH\n",
    "\n",
    "    @flipH.setter\n",
    "    def flipH(self, value):\n",
    "        self._flipH = bool(value)\n",
    "\n",
    "    @property\n",
    "    def detect(self):\n",
    "        return self._detect\n",
    "\n",
    "    @detect.setter\n",
    "    def detect(self, value):\n",
    "        self._detect = bool(value)\n",
    "    \n",
    "    @property\n",
    "    def exposure(self):\n",
    "        return self._exposure\n",
    "\n",
    "    @exposure.setter\n",
    "    def exposure(self, value):\n",
    "        self._exposure = value\n",
    "        self.VIDEO.set(cv2.CAP_PROP_EXPOSURE, self._exposure)\n",
    "    \n",
    "    @property\n",
    "    def contrast(self):\n",
    "        return self._contrast\n",
    "\n",
    "    @contrast.setter\n",
    "    def contrast(self, value):\n",
    "        self._contrast = value\n",
    "        self.VIDEO.set(cv2.CAP_PROP_CONTRAST, self._contrast)\n",
    "\n",
    "    def show(self):\n",
    "        while(self.VIDEO.isOpened()):\n",
    "            ret, snap = self.VIDEO.read()\n",
    "            if self.flipH:\n",
    "                snap = cv2.flip(snap, 1)\n",
    "            \n",
    "            if ret == True:\n",
    "                if self._preview:\n",
    "                    # snap = cv2.resize(snap, (0, 0), fx=0.5, fy=0.5)\n",
    "                    if self.detect:\n",
    "                        snap = self.MODEL.detectObj(snap)\n",
    "\n",
    "                else:\n",
    "                    snap = np.zeros((\n",
    "                        int(self.VIDEO.get(cv2.CAP_PROP_FRAME_HEIGHT)),\n",
    "                        int(self.VIDEO.get(cv2.CAP_PROP_FRAME_WIDTH))\n",
    "                    ), np.uint8)\n",
    "                    label = 'camera disabled'\n",
    "                    H, W = snap.shape\n",
    "                    font = cv2.FONT_HERSHEY_PLAIN\n",
    "                    color = (255,255,255)\n",
    "                    cv2.putText(snap, label, (W//2 - 100, H//2), font, 2, color, 2)\n",
    "                \n",
    "                frame = cv2.imencode('.jpg', snap)[1].tobytes()\n",
    "                yield (b'--frame\\r\\n'b'Content-Type: image/jpeg\\r\\n\\r\\n' + frame + b'\\r\\n')\n",
    "                time.sleep(0.01)\n",
    "\n",
    "            else:\n",
    "                break\n",
    "        print('off')"
   ]
  },
  {
   "cell_type": "code",
   "execution_count": null,
   "metadata": {},
   "outputs": [],
   "source": []
  },
  {
   "cell_type": "code",
   "execution_count": null,
   "metadata": {},
   "outputs": [],
   "source": []
  }
 ],
 "metadata": {
  "kernelspec": {
   "display_name": "Python 3",
   "language": "python",
   "name": "python3"
  },
  "language_info": {
   "codemirror_mode": {
    "name": "ipython",
    "version": 3
   },
   "file_extension": ".py",
   "mimetype": "text/x-python",
   "name": "python",
   "nbconvert_exporter": "python",
   "pygments_lexer": "ipython3",
   "version": "3.8.0"
  },
  "varInspector": {
   "cols": {
    "lenName": 16,
    "lenType": 16,
    "lenVar": 40
   },
   "kernels_config": {
    "python": {
     "delete_cmd_postfix": "",
     "delete_cmd_prefix": "del ",
     "library": "var_list.py",
     "varRefreshCmd": "print(var_dic_list())"
    },
    "r": {
     "delete_cmd_postfix": ") ",
     "delete_cmd_prefix": "rm(",
     "library": "var_list.r",
     "varRefreshCmd": "cat(var_dic_list()) "
    }
   },
   "types_to_exclude": [
    "module",
    "function",
    "builtin_function_or_method",
    "instance",
    "_Feature"
   ],
   "window_display": false
  }
 },
 "nbformat": 4,
 "nbformat_minor": 4
}
